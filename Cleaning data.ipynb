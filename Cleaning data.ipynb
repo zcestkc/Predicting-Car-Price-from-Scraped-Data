{
 "cells": [
  {
   "cell_type": "code",
   "execution_count": 1,
   "metadata": {},
   "outputs": [],
   "source": [
    "#import required libraries\n",
    "import pandas as pd\n",
    "import numpy as np"
   ]
  },
  {
   "cell_type": "code",
   "execution_count": 2,
   "metadata": {},
   "outputs": [],
   "source": [
    "#import data from csv\n",
    "raw_data = pd.read_csv('fullspecs.csv',dtype=str)"
   ]
  },
  {
   "cell_type": "code",
   "execution_count": 3,
   "metadata": {},
   "outputs": [],
   "source": [
    "df=raw_data.copy()\n",
    "df=df.transpose()\n",
    "df.columns=df.iloc[0]\n",
    "df=df.iloc[1:]\n",
    "df.reset_index(inplace=True)\n",
    "df.rename(columns={'index':'Model'},inplace=True)"
   ]
  },
  {
   "cell_type": "code",
   "execution_count": 4,
   "metadata": {},
   "outputs": [],
   "source": [
    "#replaceing 'NA' and 'TBD' with np.nan\n",
    "df = df.replace(\"- TBD –\", 'NA')\n",
    "df = df.replace(\"- TBD -\", 'NA')\n",
    "df = df.replace(\"NA\", np.nan)"
   ]
  },
  {
   "cell_type": "code",
   "execution_count": 5,
   "metadata": {},
   "outputs": [],
   "source": [
    "#MSRP(price) to float\n",
    "df['MSRP']=df['MSRP'].str.replace('$','')\n",
    "df['MSRP']=df['MSRP'].str.replace(',','')\n",
    "df['MSRP']=df['MSRP'].astype(float)"
   ]
  },
  {
   "cell_type": "code",
   "execution_count": 6,
   "metadata": {},
   "outputs": [],
   "source": [
    "#extract year from model\n",
    "df['Year']=df['Model'].str.split().str[0]\n",
    "df['Year'].astype(int)\n",
    "fixed_columns = [df.columns[-1]] + list(df.columns[:-1])\n",
    "df = df[fixed_columns]"
   ]
  },
  {
   "cell_type": "code",
   "execution_count": 7,
   "metadata": {},
   "outputs": [],
   "source": [
    "#clean basic miles and convert to float\n",
    "df['Basic Miles/km'] = df['Basic Miles/km'].str.replace(',','')\n",
    "df['Basic Miles/km'] = df['Basic Miles/km'].str.replace('Unlimited','150000')\n",
    "df['Basic Miles/km'] = df['Basic Miles/km'].astype(float)"
   ]
  },
  {
   "cell_type": "code",
   "execution_count": 8,
   "metadata": {},
   "outputs": [],
   "source": [
    "#clean drivetrain miles and convert to float\n",
    "df['Drivetrain Miles/km'] = df['Drivetrain Miles/km'].str.replace(\",\", \"\")\n",
    "df['Drivetrain Miles/km'] = df['Drivetrain Miles/km'].str.replace(\"Unlimited\", \"150000\")\n",
    "df['Drivetrain Miles/km'] = df['Drivetrain Miles/km'].astype(float)"
   ]
  },
  {
   "cell_type": "code",
   "execution_count": 9,
   "metadata": {},
   "outputs": [],
   "source": [
    "#clean corrosion miles and convert to float\n",
    "df['Corrosion Miles/km'] = df['Corrosion Miles/km'].str.replace(\",\", \"\")\n",
    "df['Corrosion Miles/km'] = df['Corrosion Miles/km'].str.replace(\"Unlimited\", \"150000\")\n",
    "df['Corrosion Miles/km'] = df['Corrosion Miles/km'].astype(float)"
   ]
  },
  {
   "cell_type": "code",
   "execution_count": 10,
   "metadata": {},
   "outputs": [],
   "source": [
    "#clean roadside assistance miles and convert to float\n",
    "df['Roadside Assistance Miles/km'] = df['Roadside Assistance Miles/km'].str.replace(\",\", \"\")\n",
    "df['Roadside Assistance Miles/km'] = df['Roadside Assistance Miles/km'].str.replace(\"Unlimited\", \"150000\")\n",
    "df['Roadside Assistance Miles/km'] = df['Roadside Assistance Miles/km'].astype(float)"
   ]
  },
  {
   "cell_type": "code",
   "execution_count": 11,
   "metadata": {},
   "outputs": [],
   "source": [
    "#extract number of gear from transmission and convert to float\n",
    "df['Transmission'] = df['Transmission'].str.lower()\n",
    "df['Gear'] = df['Transmission'].str.split(\"-speed\", expand=True, n = 1)[0].str[-2:].str.strip()\n",
    "df['Gear'] = df['Gear'].apply(pd.to_numeric, errors='coerce').astype(float)"
   ]
  },
  {
   "cell_type": "code",
   "execution_count": 12,
   "metadata": {},
   "outputs": [],
   "source": [
    "#extract max horsepower and convert to float\n",
    "df['Horsepower']=df['SAE Net Horsepower @ RPM'].str.split('@').str[0]\n",
    "df['Horsepower']=df['Horsepower'].str.replace(' Combined','')\n",
    "df['Horsepower']=df['Horsepower'].str.replace(' combined','')\n",
    "df['Horsepower']=df['Horsepower'].str.replace(r\"\\(.*\\)\",\"\")\n",
    "df['Horsepower']=df['Horsepower'].str.split('-').str[0].astype(float)"
   ]
  },
  {
   "cell_type": "code",
   "execution_count": 13,
   "metadata": {},
   "outputs": [],
   "source": [
    "#extract max horsepower RPM and convert to float\n",
    "df['Horsepower RPM']=df['SAE Net Horsepower @ RPM'].str.split('@').str[1].str.strip()\n",
    "df['Horsepower RPM'] = df['Horsepower RPM'].str.split('/',expand=True)[0].str.strip()\n",
    "df['Horsepower RPM'] = df['Horsepower RPM'].str.replace(\"- NA -\", \"NA\")\n",
    "df['Horsepower RPM'] = df['Horsepower RPM'].str.replace(\"- TBD -\", \"NA\")\n",
    "df['Horsepower RPM'] = df['Horsepower RPM'].str.replace(\"\\d+ -\", \"NA\")\n",
    "df['Horsepower RPM'] = df['Horsepower RPM'].str.replace(r\"\\(.*\\)\",\"\")\n",
    "df['Horsepower RPM'] = df['Horsepower RPM'].replace(\"NA\", np.nan)\n",
    "df['Horsepower RPM'] = df['Horsepower RPM'].apply(pd.to_numeric, errors='coerce').astype(float)\n",
    "df['Horsepower RPM'] = df['Horsepower RPM'].astype(float)"
   ]
  },
  {
   "cell_type": "code",
   "execution_count": 14,
   "metadata": {},
   "outputs": [],
   "source": [
    "#extract max Torque and convert to float\n",
    "df['Torque'] = df['SAE Net Torque @ RPM'].str.split('@').str[0]\n",
    "df['Torque'] = df['Torque'].str.replace(' Combined','')\n",
    "df['Torque'] = df['Torque'].str.replace(' combined','')\n",
    "df['Torque'] = df['Torque'].astype(float)"
   ]
  },
  {
   "cell_type": "code",
   "execution_count": 15,
   "metadata": {},
   "outputs": [],
   "source": [
    "#extract max Torque RPM and convert to float\n",
    "df['Torque RPM'] = df['SAE Net Torque @ RPM'].str.split('@').str[1].str.strip()\n",
    "df['Torque RPM'] = df['Torque RPM'].str.replace('\\d+-','')\n",
    "df['Torque RPM'] = df['Torque RPM'].str.replace('\\d+ - ','')\n",
    "df['Torque RPM'] = df['Torque RPM'].str.replace(\"- TBD -\", \"NA\")\n",
    "df['Torque RPM'] = df['Torque RPM'].str.split(' ').str[0].str.strip()\n",
    "df['Torque RPM'] = df['Torque RPM'].str.split('/').str[0].str.strip()\n",
    "df['Torque RPM'] = df['Torque RPM'].replace(\"NA\", np.nan)\n",
    "df['Torque RPM'] = df['Torque RPM'].astype(float)"
   ]
  },
  {
   "cell_type": "code",
   "execution_count": 16,
   "metadata": {},
   "outputs": [],
   "source": [
    "#extract number of cylinder and convert to float\n",
    "df['Cylinders']=df['Engine Type'].str.extract('(\\d+)').astype(float)"
   ]
  },
  {
   "cell_type": "code",
   "execution_count": 17,
   "metadata": {},
   "outputs": [],
   "source": [
    "#extract Engine Configuration\n",
    "df['Engine Configuration'] = df['Engine Type']\n",
    "df['Engine Configuration'] = df['Engine Configuration'].str.lower()\n",
    "words_to_remove = ['turbo', 'supercharger', 'regular', 'unleaded', 'premium', 'gas', 'electric', 'turbocharged', 'flexible',\n",
    "          'intercooled', 'twin', 'unleaded', 'charged', 'ethanol', 'natural', 'high pressure', 'low pressure',\n",
    "          'ecotec', 'cyl', 'diesel', 'compressed', 'super', 'vortec', '(\\d+)', '/', '-', ')', '(']\n",
    "for i in words_to_remove:\n",
    "    df['Engine Configuration']=df['Engine Configuration'].str.replace(i,'')\n",
    "\n",
    "df['Engine Configuration']=df['Engine Configuration'].str.strip()\n",
    "df['Engine Configuration']=df['Engine Configuration'].str[-1]\n",
    "df['Engine Configuration']=df['Engine Configuration'].str.upper().str.replace('T','FLAT').replace('L', np.nan)"
   ]
  },
  {
   "cell_type": "code",
   "execution_count": 18,
   "metadata": {},
   "outputs": [],
   "source": [
    "#extract engine class\n",
    "df[\"Engine Class\"] = df[\"Engine Type\"].str.split(' ').str[0]\n",
    "df[\"Engine Class\"] = df[\"Engine Class\"].replace('Turbo', 'Turbocharged')\n",
    "df[\"Engine Class\"] = df[\"Engine Class\"].replace('Electric/Gas', 'Electric').replace('Gas/Electric', 'Electric')\n",
    "df[\"Engine Class\"] = df[\"Engine Class\"].replace('Turbo/Supercharger', 'Supercharger').replace('Supercharged', 'Supercharger')\n",
    "df[\"Engine Class\"] = df[\"Engine Class\"].replace('Twin-Turbocharged', 'Twin').replace('Twin-Scroll', 'Twin').replace('Bi-Turbocharged', 'Twin')"
   ]
  },
  {
   "cell_type": "code",
   "execution_count": 19,
   "metadata": {},
   "outputs": [],
   "source": [
    "#clean displacement (L) and convert to float\n",
    "df['Displacement (L)']=df['Displacement'].str.extract('(\\d.\\d)').astype(float)"
   ]
  },
  {
   "cell_type": "code",
   "execution_count": 20,
   "metadata": {},
   "outputs": [],
   "source": [
    "#clean displacement (cc) and convert to float\n",
    "df['Displacement (cc)'] = df['Displacement'].str.split(\"/\",expand=True)[1]\n",
    "df['Displacement (cc)'] = df['Displacement (cc)'].str.extract('(\\d+)').astype(float)"
   ]
  },
  {
   "cell_type": "code",
   "execution_count": 21,
   "metadata": {},
   "outputs": [],
   "source": [
    "#extract rear tire width and convert to float\n",
    "df[\"Rear Tire Width\"]=df[\"Rear Tire Size\"].str.split('/',expand=True)[0].str[-3:].str.strip()\n",
    "df[\"Rear Tire Width\"]=df[\"Rear Tire Width\"].str.replace('R15','NA').str.replace('18\"','NA').str.replace('60A','NA').str.replace('R18','NA').str.replace('R20','NA')\n",
    "df[\"Rear Tire Width\"]=df[\"Rear Tire Width\"].replace('NA',np.nan).astype(float)"
   ]
  },
  {
   "cell_type": "code",
   "execution_count": 22,
   "metadata": {},
   "outputs": [],
   "source": [
    "#extract front tire width and convert to float\n",
    "df[\"Front Tire Width\"]=df[\"Front Tire Size\"].str.split('/',expand=True)[0].str[-3:].str.strip()\n",
    "df[\"Front Tire Width\"]=df[\"Front Tire Width\"].str.replace('R15','NA').str.replace('18\"','NA').str.replace('60A','NA').str.replace('R20','NA')\n",
    "df[\"Front Tire Width\"]=df[\"Front Tire Width\"].replace('NA',np.nan).astype(float)"
   ]
  },
  {
   "cell_type": "code",
   "execution_count": 23,
   "metadata": {},
   "outputs": [],
   "source": [
    "#clean rear wheel size and convert to float\n",
    "df[\"Rear Wheel Size\"] = df[\"Rear Wheel Size (in)\"].str[0:2]\n",
    "df[\"Rear Wheel Size\"] = df[\"Rear Wheel Size\"].str.replace('P2','NA').replace('NA',np.nan).astype(float)"
   ]
  },
  {
   "cell_type": "code",
   "execution_count": 24,
   "metadata": {},
   "outputs": [],
   "source": [
    "#clean front wheel size and convert to float\n",
    "df[\"Front Wheel Size\"] = df[\"Front Wheel Size (in)\"].str[0:2]\n",
    "df[\"Front Wheel Size\"] = df[\"Front Wheel Size\"].str.replace('P2','NA').replace('NA',np.nan).astype(float)"
   ]
  },
  {
   "cell_type": "code",
   "execution_count": 25,
   "metadata": {},
   "outputs": [],
   "source": [
    "#extract tire rating\n",
    "df[\"Tire Rating\"] = df[\"Front Tire Size\"].str.split(\"/\").str[-1].str[-4]\n",
    "df[\"Tire Rating\"] = df[\"Tire Rating\"].str.replace('(\\d+)', 'NA')"
   ]
  },
  {
   "cell_type": "code",
   "execution_count": 26,
   "metadata": {},
   "outputs": [],
   "source": [
    "#create new columns for tire width ratio and wheel size ration\n",
    "df[\"Tire Width Ratio\"] = df[\"Rear Tire Width\"]/df[\"Front Tire Width\"]\n",
    "df[\"Wheel Size Ratio\"] = df[\"Rear Wheel Size\"]/df[\"Front Wheel Size\"]"
   ]
  },
  {
   "cell_type": "code",
   "execution_count": 27,
   "metadata": {},
   "outputs": [],
   "source": [
    "#create new column for tire ratio and convert to flaot\n",
    "df[\"Tire Ratio\"] = df[\"Front Tire Size\"].str.split(\"/\").str[1].str[0]\n",
    "df[\"Tire Ratio\"] = df[\"Tire Ratio\"].replace('Y', 'NA').replace('NA', np.nan).astype(float)"
   ]
  },
  {
   "cell_type": "code",
   "execution_count": 28,
   "metadata": {},
   "outputs": [],
   "source": [
    "#clean drivetrain and convert to string\n",
    "df['Drivetrain'] = df['Drivetrain'].str.lower()\n",
    "df['Drivetrain'] = df['Drivetrain'].str.replace('rwd','rear wheel drive').str.replace('awd','all wheel drive').str.replace('4wd','four wheel drive').str.replace('2wd','two wheel drive')\n",
    "df['Drivetrain'] = df['Drivetrain'].str.replace('-',' ').str.replace('4','four').str.replace('2','two').str.replace('two wheel drive','rear wheel drive')\n",
    "df['Drivetrain'] = df['Drivetrain'].str.title().astype(str)"
   ]
  },
  {
   "cell_type": "code",
   "execution_count": 29,
   "metadata": {},
   "outputs": [],
   "source": [
    "#clean EPA classification\n",
    "df['EPA Classification'] = df['EPA Classification'].str.lower()\n",
    "df['EPA Classification'] = df['EPA Classification'].apply(lambda x: 'Sub-Compact Cars' if \"sub\" in str(x) else x)\n",
    "df['EPA Classification'] = df['EPA Classification'].apply(lambda x: 'Compact Cars' if \"compact\" in str(x) else x)\n",
    "df['EPA Classification'] = df['EPA Classification'].apply(lambda x: 'Sport Utility Vehicles' if \"sport\" in str(x) else x)\n",
    "df['EPA Classification'] = df['EPA Classification'].apply(lambda x: 'Mid-Size Cars' if \"mid\" in str(x) else x)\n",
    "df['EPA Classification'] = df['EPA Classification'].apply(lambda x: 'Large Cars' if \"large\" in str(x) else x)\n",
    "df['EPA Classification'] = df['EPA Classification'].apply(lambda x: 'Two-Seaters' if \"seater\" in str(x) else x)\n",
    "df['EPA Classification'] = df['EPA Classification'].apply(lambda x: 'Small Station Wagons' if \"station\" in str(x) else x)\n",
    "df['EPA Classification'] = df['EPA Classification'].apply(lambda x: 'Special Purpose Vehicles' if \"special\" in str(x) else x)\n",
    "df['EPA Classification'] = df['EPA Classification'].apply(lambda x: 'Minivans' if \"van\" in str(x) else x)\n",
    "df['EPA Classification'] = df['EPA Classification'].apply(lambda x: 'Pickup Trucks' if \"truck\" in str(x) else x)\n",
    "df['EPA Classification'] = df['EPA Classification'].apply(lambda x: 'Small Station Wagons' if \"wagon\" in str(x) else x)\n",
    "df['EPA Classification'] = df['EPA Classification'].apply(lambda x: 'Sub-Compact Cars' if \"small\" in str(x) else x)"
   ]
  },
  {
   "cell_type": "code",
   "execution_count": 30,
   "metadata": {},
   "outputs": [],
   "source": [
    "#clean body style \n",
    "df['Body Style'] = df['Body Style'].apply(lambda x: 'Crew Cab Pickup - Standard Bed' if ('Crew Cab Pickup' in str(x) and 'Standard' in str(x)) else x)\n",
    "df['Body Style'] = df['Body Style'].apply(lambda x: 'Extended Cab Pickup - Standard Bed' if ('Extended Cab Pickup' in str(x) and 'Standard' in str(x)) else x)\n",
    "df['Body Style'] = df['Body Style'].apply(lambda x: 'Regular Cab Pickup - Standard Bed' if ('Regular Cab Chassis-Cab' in str(x) and 'Standard' in str(x)) else x)\n",
    "df['Body Style'] = df['Body Style'].str.replace('Crew Cab Pickup$','Crew Cab Pickup - Standard Bed',regex=True)\n",
    "df['Body Style'] = df['Body Style'].str.replace('Extended Cab Pickup$','Extended Cab Pickup - Standard Bed',regex=True)\n",
    "df['Body Style'] = df['Body Style'].str.replace('Regular Cab Chassis-Cab$','Regular Cab Pickup - Standard Bed',regex=True)\n",
    "df.loc[df['Body Style'] == 'Hatchback', 'Body Style'] = '3dr Car'"
   ]
  },
  {
   "cell_type": "code",
   "execution_count": 31,
   "metadata": {},
   "outputs": [],
   "source": [
    "#clean fuel system\n",
    "df['Fuel System'] = df['Fuel System'].str.replace('Electronic Fuel Injection', 'EFI')\n",
    "df['Fuel System'] = df['Fuel System'].str.replace('Sequential MPI', 'SMPI')\n",
    "df['Fuel System'] = df['Fuel System'].str.replace('Electronic fuel injection', 'EFI')\n",
    "df['Fuel System'] = df['Fuel System'].str.replace('SEFI', 'SEFI')\n",
    "df['Fuel System'] = df['Fuel System'].str.replace('MFI', 'MPI')\n",
    "df['Fuel System'] = df['Fuel System'].str.replace('MPFI', 'MPI')\n",
    "df['Fuel System'] = df['Fuel System'].str.replace('Electronic Fuel Injectino', 'EFI')"
   ]
  },
  {
   "cell_type": "code",
   "execution_count": 32,
   "metadata": {},
   "outputs": [],
   "source": [
    "#extract Make from Model\n",
    "df['Make'] = df['Model'].str.split(' ').str[1].str.strip()\n",
    "df['Make'] = df['Make'].str.replace('Land','Land Rover').replace('INFINITI','Infiniti').replace('smart','Smart').replace('Alfa','Alfa Romeo').replace('FIAT','Fiat').replace('MINI','Mini')"
   ]
  },
  {
   "cell_type": "code",
   "execution_count": 33,
   "metadata": {},
   "outputs": [],
   "source": [
    "#convert all numbers to float\n",
    "df['MSRP'] = df['MSRP'].astype(float)\n",
    "df[\"Tire Ratio\"] = df[\"Tire Ratio\"].astype(float)\n",
    "df['Displacement (L)'] = df['Displacement (L)'].astype(float)\n",
    "df['Displacement (cc)'] = df['Displacement (cc)'].astype(float)\n",
    "df['Cylinders'] = df['Cylinders'].astype(float)\n",
    "df['Horsepower RPM'] = df['Horsepower RPM'].astype(float)\n",
    "df['Gear'] = df['Gear'].astype(float)\n",
    "df['Roadside Assistance Miles/km'] = df['Roadside Assistance Miles/km'].astype(float)\n",
    "df['Drivetrain Miles/km'] = df['Drivetrain Miles/km'].astype(float)\n",
    "df['Basic Miles/km'] = df['Basic Miles/km'].astype(float)"
   ]
  },
  {
   "cell_type": "code",
   "execution_count": 34,
   "metadata": {},
   "outputs": [],
   "source": [
    "#convert columns to numerics and apply np.nan to non-numerics\n",
    "df = df.rename(columns=lambda x: x.split(\" (ft\")[0])\n",
    "df['Passenger Volume'] = df['Passenger Volume'].str.replace(r\"\\(.*\\)\",\"\")\n",
    "\n",
    "specs_to_numeric = ['MSRP', 'Passenger Capacity', 'Passenger Doors',\n",
    "                    'Base Curb Weight (lbs)', 'Second Shoulder Room (in)',\n",
    "                    'Second Head Room (in)', 'Front Shoulder Room (in)',\n",
    "                    'Second Hip Room (in)', 'Front Head Room (in)', 'Second Leg Room (in)', 'Front Hip Room (in)',\n",
    "                    'Front Leg Room (in)', 'Width, Max w/o mirrors (in)', 'Track Width, Rear (in)',\n",
    "                    'Height, Overall (in)', 'Wheelbase (in)', 'Track Width, Front (in)',\n",
    "                    'Fuel Tank Capacity, Approx (gal)', 'EPA Fuel Economy Est - City (MPG)',\n",
    "                    'EPA Fuel Economy Est - Hwy (MPG)',\n",
    "                    'Fuel Economy Est-Combined (MPG)', 'Fourth Gear Ratio (:1)',\n",
    "                    'Second Gear Ratio (:1)', 'Reverse Ratio (:1)', 'Fifth Gear Ratio (:1)',\n",
    "                    'Third Gear Ratio (:1)', 'Final Drive Axle Ratio (:1)', 'First Gear Ratio (:1)',\n",
    "                    'Sixth Gear Ratio (:1)', 'Passenger Volume',\n",
    "                    'Front Brake Rotor Diam x Thickness (in)', 'Disc - Front (Yes or   )',\n",
    "                    'Rear Brake Rotor Diam x Thickness (in)', 'Rear Wheel Size (in)',\n",
    "                    'Rear Wheel Material', 'Spare Wheel Size (in)', 'Front Wheel Size (in)', 'Basic Miles/km',\n",
    "                    'Basic Years', 'Corrosion Years', 'Drivetrain Miles/km', 'Drivetrain Years',\n",
    "                    'Roadside Assistance Miles/km', 'Roadside Assistance Years', 'Year', 'Tire Ratio',\n",
    "                    'Front Tire Width', 'Rear Tire Width', 'Displacement (cc)', 'Displacement (L)', 'Torque RPM',\n",
    "                    'Torque', 'Gear', 'Horsepower', 'Horsepower RPM', 'Cylinders']\n",
    "\n",
    "for i in specs_to_numeric:\n",
    "    df[i] = pd.to_numeric(df[i], errors='coerce')\n",
    "    \n",
    "specs_to_delete = ['Style Name','Gas Mileage', 'Engine', 'Engine Type', 'SAE Net Horsepower @ RPM', 'SAE Net Torque @ RPM',\n",
    "                  'Displacement', 'Trans Description Cont.', 'Rear Tire Size', 'Front Tire Size', 'Rear Wheel Size (in)',\n",
    "                  'Front Wheel Size (in)', 'Transmission', 'EPA Class', 'Brake ABS System', 'Disc - Front (Yes or   )','Other Features',\n",
    "                  'Brake Type', 'Disc - Rear (Yes or   )', 'Spare Tire Size', 'Spare Wheel Size (in)', 'Spare Wheel Material','Model']\n",
    "df.drop(specs_to_delete, axis=1, inplace=True)"
   ]
  },
  {
   "cell_type": "code",
   "execution_count": 35,
   "metadata": {},
   "outputs": [
    {
     "data": {
      "text/plain": [
       "['Min Ground Clearance (in)',\n",
       " 'Cargo Volume to Seat 1',\n",
       " 'Cargo Volume to Seat 2',\n",
       " 'Cargo Volume to Seat 3',\n",
       " 'Engine Order Code',\n",
       " 'Sixth Gear Ratio (:1)',\n",
       " 'Seventh Gear Ratio (:1)',\n",
       " 'Trans Order Code',\n",
       " 'Trans Description Cont. Again',\n",
       " 'Eighth Gear Ratio (:1)',\n",
       " 'Rear Brake Rotor Diam x Thickness (in)',\n",
       " 'Drum - Rear (Yes or   )',\n",
       " 'Front Brake Rotor Diam x Thickness (in)',\n",
       " 'Rear Drum Diam x Width (in)',\n",
       " 'Front Tire Order Code',\n",
       " 'Rear Tire Order Code',\n",
       " 'Spare Tire Order Code',\n",
       " 'Rear Wheel Material',\n",
       " 'Suspension Type - Rear (Cont.)',\n",
       " 'Suspension Type - Front (Cont.)',\n",
       " 'Cold Cranking Amps @ 0° F (Primary)',\n",
       " 'Wt Distributing Hitch - Max Tongue Wt. (lbs)',\n",
       " 'Maximum Trailering Capacity (lbs)',\n",
       " 'Wt Distributing Hitch - Max Trailer Wt. (lbs)',\n",
       " 'Liftover Height (in)',\n",
       " 'Rear Door Opening Height (in)',\n",
       " 'Rear Door Opening Width (in)',\n",
       " 'Cargo Box Width @ Wheelhousings (in)',\n",
       " 'Cargo Area Length @ Floor to Seat 3 (in)',\n",
       " 'Cargo Area Length @ Floor to Seat 1 (in)',\n",
       " 'Cargo Box (Area) Height (in)',\n",
       " 'Cargo Area Width @ Beltline (in)',\n",
       " 'Cargo Area Length @ Floor to Seat 2 (in)',\n",
       " 'Clutch Size (in)',\n",
       " 'Turning Diameter - Wall to Wall',\n",
       " 'Lock to Lock Turns (Steering)',\n",
       " 'Steering Ratio (:1), Overall',\n",
       " 'Shock Absorber Diameter - Front (mm)',\n",
       " 'Stabilizer Bar Diameter - Rear (in)',\n",
       " 'Shock Absorber Diameter - Rear (mm)',\n",
       " 'Stabilizer Bar Diameter - Front (in)',\n",
       " 'Total Cooling System Capacity (qts)',\n",
       " 'Third Shoulder Room (in)',\n",
       " 'Third Head Room (in)',\n",
       " 'Third Hip Room (in)',\n",
       " 'Third Leg Room (in)',\n",
       " 'Hybrid/Electric Components Miles/km',\n",
       " 'Hybrid/Electric Components Years',\n",
       " 'Transfer Case Gear Ratio (:1), High',\n",
       " 'Transfer Case Gear Ratio (:1), Low',\n",
       " 'Trunk Volume',\n",
       " 'Number of Passenger Doors',\n",
       " 'Roadside Assistance Note',\n",
       " 'Warranty Note',\n",
       " 'Maintenance Miles/km',\n",
       " 'Maintenance Years',\n",
       " 'Basic Note',\n",
       " 'Cargo Volume with Rear Seat Up',\n",
       " 'Cargo Volume with Rear Seat Down',\n",
       " 'Gross Vehicle Weight Rating Cap (lbs)',\n",
       " 'Engine Oil Cooler',\n",
       " 'Transfer Case Model',\n",
       " 'Transfer Case Power Take Off',\n",
       " 'Trans PTO Access',\n",
       " 'Brake ABS System (Second Line)',\n",
       " 'Axle Type - Rear',\n",
       " 'Axle Type - Front',\n",
       " 'Cold Cranking Amps @ 0° F (2nd)',\n",
       " 'EPA MPG Equivalent - Combined',\n",
       " 'Battery Range (mi)',\n",
       " 'Axle Ratio (:1) - Rear',\n",
       " 'Axle Ratio (:1) - Front',\n",
       " 'Gross Axle Wt Rating - Front (lbs)',\n",
       " 'Gross Axle Wt Rating - Rear (lbs)',\n",
       " 'EPA MPG Equivalent - City',\n",
       " 'EPA MPG Equivalent - Hwy',\n",
       " 'Maintenance Note',\n",
       " 'Emissions Miles/km',\n",
       " 'Emissions Years',\n",
       " 'Ninth Gear Ratio (:1)',\n",
       " 'EPA Air Pollution Score',\n",
       " 'Rear Door Type',\n",
       " 'Curb Weight - Front (lbs)',\n",
       " 'Gross Combined Wt Rating (lbs)',\n",
       " 'Curb Weight - Rear (lbs)',\n",
       " 'Ground Clearance, Rear (in)',\n",
       " 'Step Up Height - Front (in)',\n",
       " 'Length, Overall w/rear bumper (in)',\n",
       " 'Ground to Top of Load Floor (in)',\n",
       " 'Side Door Opening Height (in)',\n",
       " 'Overhang, Front (in)',\n",
       " 'Step Up Height - Side (in)',\n",
       " 'Ground Clearance, Front (in)',\n",
       " 'Side Door Opening Width (in)',\n",
       " 'Overhang, Rear w/bumper (in)',\n",
       " 'Cargo Volume to Seat 4',\n",
       " 'Cargo Area Length @ Floor to Seat 4 (in)',\n",
       " 'Cargo Area Length @ Floor to Console (in)',\n",
       " 'Aux Fuel Tank Capacity, Approx (gal)',\n",
       " 'Fuel Tank Location',\n",
       " 'Aux Fuel Tank Location',\n",
       " 'Trans Power Take Off',\n",
       " 'Tenth Gear Ratio (:1)',\n",
       " 'Steering Ratio (:1), On Center',\n",
       " 'Steering Ratio (:1), At Lock',\n",
       " 'Spare Tire Capacity (lbs)',\n",
       " 'Front Tire Capacity (lbs)',\n",
       " 'Revolutions/Mile @ 45 mph - Spare',\n",
       " 'Revolutions/Mile @ 45 mph - Front',\n",
       " 'Rear Tire Capacity (lbs)',\n",
       " 'Revolutions/Mile @ 45 mph - Rear',\n",
       " 'Axle Capacity - Front (lbs)',\n",
       " 'Spring Capacity - Front (lbs)',\n",
       " 'Axle Capacity - Rear (lbs)',\n",
       " 'Spring Capacity - Rear (lbs)',\n",
       " 'Maximum Alternator Watts',\n",
       " 'Fifth Wheel Hitch - Max Trailer Wt. (lbs)',\n",
       " 'Fifth Wheel Hitch - Max Tongue Wt. (lbs)',\n",
       " 'Length, Overall w/o rear bumper (in)',\n",
       " 'Front Bumper to Back of Cab (in)',\n",
       " 'Frame Width, Rear (in)',\n",
       " 'Cab to Axle (in)',\n",
       " 'Overhang, Rear w/o bumper (in)',\n",
       " 'Ground to Top of Frame (in)',\n",
       " 'Cab to End of Frame (in)',\n",
       " 'Cargo Box Width @ Top, Rear (in)',\n",
       " 'Cargo Volume',\n",
       " 'Cargo Box Width @ Floor (in)',\n",
       " \"Ext'd Cab Cargo Volume\",\n",
       " 'Cargo Box Length @ Floor (in)',\n",
       " 'Tailgate Width (in)',\n",
       " 'Drivetrain Note',\n",
       " 'Emissions Note',\n",
       " 'Fourth Hip Room (in)',\n",
       " 'Fourth Leg Room (in)',\n",
       " 'Fourth Shoulder Room (in)',\n",
       " 'Fourth Head Room (in)',\n",
       " 'Fifth Shoulder Room (in)',\n",
       " 'Fifth Head Room (in)',\n",
       " 'Fifth Hip Room (in)',\n",
       " 'Fifth Leg Room (in)',\n",
       " 'Corrosion Note',\n",
       " 'Hybrid/Electric Components Note']"
      ]
     },
     "execution_count": 35,
     "metadata": {},
     "output_type": "execute_result"
    }
   ],
   "source": [
    "#identify columns with more than half of NaN values\n",
    "col_to_remove=df.columns[df.isna().sum()>=0.5*len(df)].tolist()\n",
    "col_to_remove"
   ]
  },
  {
   "cell_type": "code",
   "execution_count": 36,
   "metadata": {},
   "outputs": [],
   "source": [
    "#drop col_to_remove from dataframe\n",
    "df.drop(col_to_remove,axis=1,inplace=True)"
   ]
  },
  {
   "cell_type": "code",
   "execution_count": 37,
   "metadata": {},
   "outputs": [],
   "source": [
    "#remove old cars (before 2000)\n",
    "df = df.loc[df['Year'] >= 2000].reset_index(drop=True)"
   ]
  },
  {
   "cell_type": "code",
   "execution_count": 38,
   "metadata": {},
   "outputs": [
    {
     "data": {
      "text/plain": [
       "Unnamed: 0\n",
       "Year                                             0\n",
       "MSRP                                            54\n",
       "Drivetrain                                       0\n",
       "Passenger Capacity                               0\n",
       "Passenger Doors                                  0\n",
       "Body Style                                       0\n",
       "EPA Classification                            9955\n",
       "Base Curb Weight (lbs)                       10382\n",
       "Front Hip Room (in)                           6186\n",
       "Front Leg Room (in)                           1070\n",
       "Second Shoulder Room (in)                     4017\n",
       "Passenger Volume                             12981\n",
       "Second Head Room (in)                         3969\n",
       "Front Shoulder Room (in)                      1120\n",
       "Second Hip Room (in)                          8722\n",
       "Front Head Room (in)                          1092\n",
       "Second Leg Room (in)                          3988\n",
       "Wheelbase (in)                                  46\n",
       "Track Width, Front (in)                       9689\n",
       "Width, Max w/o mirrors (in)                    133\n",
       "Track Width, Rear (in)                        9690\n",
       "Height, Overall (in)                           204\n",
       "Fuel Tank Capacity, Approx (gal)               202\n",
       "Fuel Economy Est-Combined (MPG)              11896\n",
       "EPA Fuel Economy Est - City (MPG)             3995\n",
       "EPA Fuel Economy Est - Hwy (MPG)              4003\n",
       "Fuel System                                    861\n",
       "First Gear Ratio (:1)                         2801\n",
       "Fourth Gear Ratio (:1)                        2941\n",
       "Second Gear Ratio (:1)                        2947\n",
       "Reverse Ratio (:1)                            2545\n",
       "Fifth Gear Ratio (:1)                         6803\n",
       "Trans Type                                      12\n",
       "Third Gear Ratio (:1)                         2896\n",
       "Final Drive Axle Ratio (:1)                  11101\n",
       "Steering Type                                   42\n",
       "Turning Diameter - Curb to Curb               1453\n",
       "Front Wheel Material                            14\n",
       "Suspension Type - Front                        171\n",
       "Suspension Type - Rear                         205\n",
       "Air Bag-Frontal-Driver                           0\n",
       "Air Bag-Frontal-Passenger                        0\n",
       "Air Bag-Passenger Switch (On/Off)                0\n",
       "Air Bag-Side Body-Front                          0\n",
       "Air Bag-Side Body-Rear                           0\n",
       "Air Bag-Side Head-Front                          0\n",
       "Air Bag-Side Head-Rear                           0\n",
       "Brakes-ABS                                       0\n",
       "Child Safety Rear Door Locks                     0\n",
       "Daytime Running Lights                           0\n",
       "Traction Control                                 0\n",
       "Night Vision                                     0\n",
       "Rollover Protection Bars                         0\n",
       "Fog Lamps                                        0\n",
       "Parking Aid                                      0\n",
       "Tire Pressure Monitor                            0\n",
       "Back-Up Camera                                   0\n",
       "Stability Control                                0\n",
       "Basic Miles/km                                   0\n",
       "Basic Years                                      0\n",
       "Corrosion Miles/km                             538\n",
       "Corrosion Years                                538\n",
       "Drivetrain Miles/km                            135\n",
       "Drivetrain Years                               235\n",
       "Roadside Assistance Miles/km                  4157\n",
       "Roadside Assistance Years                     4739\n",
       "Maximum Alternator Capacity (amps)            7297\n",
       "Dead Weight Hitch - Max Tongue Wt. (lbs)     11487\n",
       "Dead Weight Hitch - Max Trailer Wt. (lbs)    11468\n",
       "Length, Overall (in)                         12325\n",
       "Gear                                          2280\n",
       "Horsepower                                      43\n",
       "Horsepower RPM                                 878\n",
       "Torque                                          96\n",
       "Torque RPM                                     386\n",
       "Cylinders                                      207\n",
       "Engine Configuration                           879\n",
       "Engine Class                                     6\n",
       "Displacement (L)                               174\n",
       "Displacement (cc)                             1106\n",
       "Rear Tire Width                                 37\n",
       "Front Tire Width                                36\n",
       "Rear Wheel Size                                 19\n",
       "Front Wheel Size                                18\n",
       "Tire Rating                                     33\n",
       "Tire Width Ratio                                40\n",
       "Wheel Size Ratio                                19\n",
       "Tire Ratio                                      43\n",
       "Make                                             0\n",
       "dtype: int64"
      ]
     },
     "execution_count": 38,
     "metadata": {},
     "output_type": "execute_result"
    }
   ],
   "source": [
    "#review total number of NAs in each column\n",
    "pd.set_option('display.max_rows', None)\n",
    "df.isna().sum()"
   ]
  },
  {
   "cell_type": "code",
   "execution_count": 39,
   "metadata": {},
   "outputs": [
    {
     "data": {
      "text/plain": [
       "['EPA Classification',\n",
       " 'Base Curb Weight (lbs)',\n",
       " 'Passenger Volume',\n",
       " 'Second Hip Room (in)',\n",
       " 'Track Width, Front (in)',\n",
       " 'Track Width, Rear (in)',\n",
       " 'Fuel Economy Est-Combined (MPG)',\n",
       " 'Final Drive Axle Ratio (:1)',\n",
       " 'Dead Weight Hitch - Max Tongue Wt. (lbs)',\n",
       " 'Dead Weight Hitch - Max Trailer Wt. (lbs)',\n",
       " 'Length, Overall (in)']"
      ]
     },
     "execution_count": 39,
     "metadata": {},
     "output_type": "execute_result"
    }
   ],
   "source": [
    "#identify columns with more than 30% of NaN values in the new dataframe\n",
    "col_to_remove1=df.columns[df.isna().sum()>=0.3*len(df)].tolist()\n",
    "col_to_remove1"
   ]
  },
  {
   "cell_type": "code",
   "execution_count": 40,
   "metadata": {},
   "outputs": [],
   "source": [
    "#drop col_to_remove from dataframe\n",
    "df.drop(col_to_remove1,axis=1,inplace=True)"
   ]
  },
  {
   "cell_type": "code",
   "execution_count": 41,
   "metadata": {},
   "outputs": [],
   "source": [
    "#drop rows with NAs from dataframe and reset index\n",
    "df=df.dropna(axis=0)\n",
    "df=df.reset_index(drop=True)"
   ]
  },
  {
   "cell_type": "code",
   "execution_count": 42,
   "metadata": {},
   "outputs": [],
   "source": [
    "#export new csv as fullspecs_cleaned.csv\n",
    "df.to_csv(\"fullspecs_cleaned.csv\")"
   ]
  },
  {
   "cell_type": "code",
   "execution_count": null,
   "metadata": {},
   "outputs": [],
   "source": []
  }
 ],
 "metadata": {
  "kernelspec": {
   "display_name": "Python",
   "language": "python",
   "name": "conda-env-python-py"
  },
  "language_info": {
   "codemirror_mode": {
    "name": "ipython",
    "version": 3
   },
   "file_extension": ".py",
   "mimetype": "text/x-python",
   "name": "python",
   "nbconvert_exporter": "python",
   "pygments_lexer": "ipython3",
   "version": "3.6.7"
  }
 },
 "nbformat": 4,
 "nbformat_minor": 4
}
