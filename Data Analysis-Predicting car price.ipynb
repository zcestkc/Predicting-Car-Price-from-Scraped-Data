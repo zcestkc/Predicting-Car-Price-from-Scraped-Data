{
 "cells": [
  {
   "cell_type": "markdown",
   "metadata": {},
   "source": [
    "# Predicting car price from car features"
   ]
  },
  {
   "cell_type": "code",
   "execution_count": 1,
   "metadata": {},
   "outputs": [
    {
     "name": "stdout",
     "output_type": "stream",
     "text": [
      "Requirement already up-to-date: tensorflow in /home/jupyterlab/conda/envs/python/lib/python3.6/site-packages (2.1.0)\n",
      "Requirement already satisfied, skipping upgrade: absl-py>=0.7.0 in /home/jupyterlab/conda/envs/python/lib/python3.6/site-packages (from tensorflow) (0.8.1)\n",
      "Requirement already satisfied, skipping upgrade: protobuf>=3.8.0 in /home/jupyterlab/conda/envs/python/lib/python3.6/site-packages (from tensorflow) (3.10.1)\n",
      "Requirement already satisfied, skipping upgrade: scipy==1.4.1; python_version >= \"3\" in /home/jupyterlab/conda/envs/python/lib/python3.6/site-packages (from tensorflow) (1.4.1)\n",
      "Requirement already satisfied, skipping upgrade: grpcio>=1.8.6 in /home/jupyterlab/conda/envs/python/lib/python3.6/site-packages (from tensorflow) (1.23.0)\n",
      "Requirement already satisfied, skipping upgrade: tensorboard<2.2.0,>=2.1.0 in /home/jupyterlab/conda/envs/python/lib/python3.6/site-packages (from tensorflow) (2.1.0)\n",
      "Requirement already satisfied, skipping upgrade: keras-applications>=1.0.8 in /home/jupyterlab/conda/envs/python/lib/python3.6/site-packages (from tensorflow) (1.0.8)\n",
      "Requirement already satisfied, skipping upgrade: tensorflow-estimator<2.2.0,>=2.1.0rc0 in /home/jupyterlab/conda/envs/python/lib/python3.6/site-packages (from tensorflow) (2.1.0)\n",
      "Requirement already satisfied, skipping upgrade: keras-preprocessing>=1.1.0 in /home/jupyterlab/conda/envs/python/lib/python3.6/site-packages (from tensorflow) (1.1.0)\n",
      "Requirement already satisfied, skipping upgrade: google-pasta>=0.1.6 in /home/jupyterlab/conda/envs/python/lib/python3.6/site-packages (from tensorflow) (0.1.8)\n",
      "Requirement already satisfied, skipping upgrade: numpy<2.0,>=1.16.0 in /home/jupyterlab/conda/envs/python/lib/python3.6/site-packages (from tensorflow) (1.16.2)\n",
      "Requirement already satisfied, skipping upgrade: astor>=0.6.0 in /home/jupyterlab/conda/envs/python/lib/python3.6/site-packages (from tensorflow) (0.7.1)\n",
      "Requirement already satisfied, skipping upgrade: six>=1.12.0 in /home/jupyterlab/conda/envs/python/lib/python3.6/site-packages (from tensorflow) (1.13.0)\n",
      "Requirement already satisfied, skipping upgrade: gast==0.2.2 in /home/jupyterlab/conda/envs/python/lib/python3.6/site-packages (from tensorflow) (0.2.2)\n",
      "Requirement already satisfied, skipping upgrade: wrapt>=1.11.1 in /home/jupyterlab/conda/envs/python/lib/python3.6/site-packages (from tensorflow) (1.12.0)\n",
      "Requirement already satisfied, skipping upgrade: wheel>=0.26; python_version >= \"3\" in /home/jupyterlab/conda/envs/python/lib/python3.6/site-packages (from tensorflow) (0.33.6)\n",
      "Requirement already satisfied, skipping upgrade: termcolor>=1.1.0 in /home/jupyterlab/conda/envs/python/lib/python3.6/site-packages (from tensorflow) (1.1.0)\n",
      "Requirement already satisfied, skipping upgrade: opt-einsum>=2.3.2 in /home/jupyterlab/conda/envs/python/lib/python3.6/site-packages (from tensorflow) (3.1.0)\n",
      "Requirement already satisfied, skipping upgrade: setuptools in /home/jupyterlab/conda/envs/python/lib/python3.6/site-packages (from protobuf>=3.8.0->tensorflow) (41.6.0.post20191101)\n",
      "Requirement already satisfied, skipping upgrade: werkzeug>=0.11.15 in /home/jupyterlab/conda/envs/python/lib/python3.6/site-packages (from tensorboard<2.2.0,>=2.1.0->tensorflow) (0.16.0)\n",
      "Requirement already satisfied, skipping upgrade: google-auth-oauthlib<0.5,>=0.4.1 in /home/jupyterlab/conda/envs/python/lib/python3.6/site-packages (from tensorboard<2.2.0,>=2.1.0->tensorflow) (0.4.1)\n",
      "Requirement already satisfied, skipping upgrade: markdown>=2.6.8 in /home/jupyterlab/conda/envs/python/lib/python3.6/site-packages (from tensorboard<2.2.0,>=2.1.0->tensorflow) (3.1.1)\n",
      "Requirement already satisfied, skipping upgrade: google-auth<2,>=1.6.3 in /home/jupyterlab/conda/envs/python/lib/python3.6/site-packages (from tensorboard<2.2.0,>=2.1.0->tensorflow) (1.11.2)\n",
      "Requirement already satisfied, skipping upgrade: requests<3,>=2.21.0 in /home/jupyterlab/conda/envs/python/lib/python3.6/site-packages (from tensorboard<2.2.0,>=2.1.0->tensorflow) (2.22.0)\n",
      "Requirement already satisfied, skipping upgrade: h5py in /home/jupyterlab/conda/envs/python/lib/python3.6/site-packages (from keras-applications>=1.0.8->tensorflow) (2.8.0)\n",
      "Requirement already satisfied, skipping upgrade: requests-oauthlib>=0.7.0 in /home/jupyterlab/conda/envs/python/lib/python3.6/site-packages (from google-auth-oauthlib<0.5,>=0.4.1->tensorboard<2.2.0,>=2.1.0->tensorflow) (1.3.0)\n",
      "Requirement already satisfied, skipping upgrade: rsa<4.1,>=3.1.4 in /home/jupyterlab/conda/envs/python/lib/python3.6/site-packages (from google-auth<2,>=1.6.3->tensorboard<2.2.0,>=2.1.0->tensorflow) (4.0)\n",
      "Requirement already satisfied, skipping upgrade: pyasn1-modules>=0.2.1 in /home/jupyterlab/conda/envs/python/lib/python3.6/site-packages (from google-auth<2,>=1.6.3->tensorboard<2.2.0,>=2.1.0->tensorflow) (0.2.7)\n",
      "Requirement already satisfied, skipping upgrade: cachetools<5.0,>=2.0.0 in /home/jupyterlab/conda/envs/python/lib/python3.6/site-packages (from google-auth<2,>=1.6.3->tensorboard<2.2.0,>=2.1.0->tensorflow) (4.0.0)\n",
      "Requirement already satisfied, skipping upgrade: urllib3!=1.25.0,!=1.25.1,<1.26,>=1.21.1 in /home/jupyterlab/conda/envs/python/lib/python3.6/site-packages (from requests<3,>=2.21.0->tensorboard<2.2.0,>=2.1.0->tensorflow) (1.25.7)\n",
      "Requirement already satisfied, skipping upgrade: chardet<3.1.0,>=3.0.2 in /home/jupyterlab/conda/envs/python/lib/python3.6/site-packages (from requests<3,>=2.21.0->tensorboard<2.2.0,>=2.1.0->tensorflow) (3.0.4)\n",
      "Requirement already satisfied, skipping upgrade: idna<2.9,>=2.5 in /home/jupyterlab/conda/envs/python/lib/python3.6/site-packages (from requests<3,>=2.21.0->tensorboard<2.2.0,>=2.1.0->tensorflow) (2.8)\n",
      "Requirement already satisfied, skipping upgrade: certifi>=2017.4.17 in /home/jupyterlab/conda/envs/python/lib/python3.6/site-packages (from requests<3,>=2.21.0->tensorboard<2.2.0,>=2.1.0->tensorflow) (2019.9.11)\n",
      "Requirement already satisfied, skipping upgrade: oauthlib>=3.0.0 in /home/jupyterlab/conda/envs/python/lib/python3.6/site-packages (from requests-oauthlib>=0.7.0->google-auth-oauthlib<0.5,>=0.4.1->tensorboard<2.2.0,>=2.1.0->tensorflow) (3.1.0)\n",
      "Requirement already satisfied, skipping upgrade: pyasn1>=0.1.3 in /home/jupyterlab/conda/envs/python/lib/python3.6/site-packages (from rsa<4.1,>=3.1.4->google-auth<2,>=1.6.3->tensorboard<2.2.0,>=2.1.0->tensorflow) (0.4.7)\n",
      "Collecting keras\n",
      "\u001b[?25l  Downloading https://files.pythonhosted.org/packages/ad/fd/6bfe87920d7f4fd475acd28500a42482b6b84479832bdc0fe9e589a60ceb/Keras-2.3.1-py2.py3-none-any.whl (377kB)\n",
      "\u001b[K     |████████████████████████████████| 378kB 10.1MB/s eta 0:00:01\n",
      "\u001b[?25hRequirement already satisfied, skipping upgrade: h5py in /home/jupyterlab/conda/envs/python/lib/python3.6/site-packages (from keras) (2.8.0)\n",
      "Requirement already satisfied, skipping upgrade: keras-applications>=1.0.6 in /home/jupyterlab/conda/envs/python/lib/python3.6/site-packages (from keras) (1.0.8)\n",
      "Requirement already satisfied, skipping upgrade: numpy>=1.9.1 in /home/jupyterlab/conda/envs/python/lib/python3.6/site-packages (from keras) (1.16.2)\n",
      "Requirement already satisfied, skipping upgrade: keras-preprocessing>=1.0.5 in /home/jupyterlab/conda/envs/python/lib/python3.6/site-packages (from keras) (1.1.0)\n",
      "Requirement already satisfied, skipping upgrade: pyyaml in /home/jupyterlab/conda/envs/python/lib/python3.6/site-packages (from keras) (5.1.2)\n",
      "Requirement already satisfied, skipping upgrade: six>=1.9.0 in /home/jupyterlab/conda/envs/python/lib/python3.6/site-packages (from keras) (1.13.0)\n",
      "Requirement already satisfied, skipping upgrade: scipy>=0.14 in /home/jupyterlab/conda/envs/python/lib/python3.6/site-packages (from keras) (1.4.1)\n",
      "Installing collected packages: keras\n",
      "  Found existing installation: Keras 2.1.6\n",
      "    Uninstalling Keras-2.1.6:\n",
      "      Successfully uninstalled Keras-2.1.6\n",
      "Successfully installed keras-2.3.1\n"
     ]
    }
   ],
   "source": [
    "#install tensorflow for neural network\n",
    "!pip install --upgrade tensorflow\n",
    "!pip install --upgrade keras"
   ]
  },
  {
   "cell_type": "code",
   "execution_count": 2,
   "metadata": {},
   "outputs": [
    {
     "name": "stderr",
     "output_type": "stream",
     "text": [
      "Using TensorFlow backend.\n"
     ]
    }
   ],
   "source": [
    "#install neccessary libraries and metrics\n",
    "import pandas as pd\n",
    "import tensorflow as tf\n",
    "import matplotlib.pyplot as plt\n",
    "import numpy as np\n",
    "from tensorflow import keras\n",
    "from sklearn.preprocessing import MinMaxScaler, StandardScaler\n",
    "from sklearn.model_selection import train_test_split\n",
    "from sklearn.linear_model import LinearRegression, Ridge\n",
    "from sklearn.metrics import mean_absolute_error, confusion_matrix,r2_score\n",
    "from keras.layers import Dense, Dropout\n",
    "from keras.models import Sequential\n",
    "from keras.callbacks import EarlyStopping\n",
    "from keras import regularizers, backend"
   ]
  },
  {
   "cell_type": "code",
   "execution_count": 3,
   "metadata": {},
   "outputs": [],
   "source": [
    "#import data and select relevant features\n",
    "df=pd.read_csv('fullspecs_cleaned.csv',index_col=0)\n",
    "\n",
    "A=['Passenger Doors','Corrosion Miles/km',\n",
    "            'Traction Control','Parking Aid','Width, Max w/o mirrors (in)','Basic Miles/km',\n",
    "            'Drivetrain Miles/km','Gear','Horsepower','Roadside Assistance Years',\n",
    "            'Daytime Running Lights','Basic Years',\n",
    "            'Back-Up Camera','Horsepower RPM','EPA Fuel Economy Est - Hwy (MPG)',\n",
    "            'Engine Configuration','Third Gear Ratio (:1)','Brakes-ABS',\n",
    "            'Second Shoulder Room (in)','Stability Control','Drivetrain Years',\n",
    "            'Tire Ratio',\n",
    "            'Fourth Gear Ratio (:1)','Cylinders','Tire Pressure Monitor',\n",
    "            'Corrosion Years','Torque RPM','Drivetrain','Rollover Protection Bars','Displacement (cc)',\n",
    "            'Rear Tire Width','Make','Roadside Assistance Miles/km','Fifth Gear Ratio (:1)',\n",
    "            'Front Shoulder Room (in)','Torque',\n",
    "            'Front Leg Room (in)','Second Leg Room (in)','Front Head Room (in)',\n",
    "            'Height, Overall (in)','Second Head Room (in)','Year',\n",
    "            'Front Tire Width','Night Vision',\n",
    "            'Tire Rating','Passenger Capacity',\n",
    "            'Second Gear Ratio (:1)','Fuel Tank Capacity, Approx (gal)','Reverse Ratio (:1)',\n",
    "            'Fuel System','First Gear Ratio (:1)','EPA Fuel Economy Est - City (MPG)',\n",
    "            'Displacement (L)']\n",
    "x=df.loc[:,A]\n",
    "y=df['MSRP']"
   ]
  },
  {
   "cell_type": "code",
   "execution_count": 4,
   "metadata": {},
   "outputs": [],
   "source": [
    "#one-hot encoding\n",
    "to_dummies = ['Drivetrain','Fuel System', 'Engine Configuration','Tire Rating','Make']\n",
    "\n",
    "for i in to_dummies:\n",
    "    dummies = pd.get_dummies(x[i], prefix_sep=': ', prefix=i)\n",
    "    x = x.drop(i, axis=1)\n",
    "    x = pd.concat([x, dummies], sort=False, axis=1)\n",
    "x = x.reset_index(drop=True)\n",
    "\n",
    "to_one = ['Brakes-ABS',\n",
    "              'Daytime Running Lights','Traction Control','Night Vision','Rollover Protection Bars',\n",
    "              'Parking Aid','Tire Pressure Monitor','Back-Up Camera','Stability Control']\n",
    "\n",
    "for i in to_one:\n",
    "    dummies1 = pd.get_dummies(x[i], prefix_sep=': ', prefix=i, drop_first=True)\n",
    "    x = x.drop(i, axis=1)\n",
    "    x = pd.concat([x, dummies1], sort=False, axis=1)\n",
    "x = x.reset_index(drop=True)"
   ]
  },
  {
   "cell_type": "code",
   "execution_count": 5,
   "metadata": {},
   "outputs": [],
   "source": [
    "#scale between 0 and 1\n",
    "scaler = MinMaxScaler()\n",
    "x = x.astype('float64')\n",
    "x = scaler.fit_transform(x)"
   ]
  },
  {
   "cell_type": "code",
   "execution_count": 6,
   "metadata": {},
   "outputs": [
    {
     "data": {
      "text/plain": [
       "(6119, 115)"
      ]
     },
     "execution_count": 6,
     "metadata": {},
     "output_type": "execute_result"
    }
   ],
   "source": [
    "#check input shape\n",
    "x.shape"
   ]
  },
  {
   "cell_type": "code",
   "execution_count": 7,
   "metadata": {},
   "outputs": [],
   "source": [
    "#build a neural network model\n",
    "model = Sequential([\n",
    "    Dense(116, activation='relu',input_shape=(x.shape[1],)),\n",
    "    Dense(58, activation='relu'),\n",
    "    Dropout(0.05),\n",
    "    Dense(1, activation='linear')])"
   ]
  },
  {
   "cell_type": "code",
   "execution_count": 8,
   "metadata": {},
   "outputs": [],
   "source": [
    "#compile the model\n",
    "model.compile(optimizer='adam', loss='mean_absolute_percentage_error', metrics=['mae'])"
   ]
  },
  {
   "cell_type": "code",
   "execution_count": 9,
   "metadata": {},
   "outputs": [
    {
     "name": "stdout",
     "output_type": "stream",
     "text": [
      "Epoch 00056: early stopping\n"
     ]
    }
   ],
   "source": [
    "#train the model\n",
    "history=model.fit(x,y, \n",
    "                  epochs=100,\n",
    "                  validation_split=0.25,\n",
    "                  batch_size=32,\n",
    "                  callbacks=[EarlyStopping(monitor='val_loss', mode='min', verbose=1,patience=20)],\n",
    "                  verbose=0)"
   ]
  },
  {
   "cell_type": "code",
   "execution_count": 10,
   "metadata": {},
   "outputs": [
    {
     "name": "stdout",
     "output_type": "stream",
     "text": [
      "lowest validation mae: 5069.26611328125\n",
      "lowest validation mape: 12.147387503331004\n"
     ]
    }
   ],
   "source": [
    "#print model accuracy\n",
    "print('lowest validation mae: {}'.format(min(history.history['val_mae'])))\n",
    "print('lowest validation mape: {}'.format(min(history.history['val_loss'])))"
   ]
  },
  {
   "cell_type": "code",
   "execution_count": 11,
   "metadata": {},
   "outputs": [
    {
     "name": "stdout",
     "output_type": "stream",
     "text": [
      "Model: \"sequential_1\"\n",
      "_________________________________________________________________\n",
      "Layer (type)                 Output Shape              Param #   \n",
      "=================================================================\n",
      "dense_1 (Dense)              (None, 116)               13456     \n",
      "_________________________________________________________________\n",
      "dense_2 (Dense)              (None, 58)                6786      \n",
      "_________________________________________________________________\n",
      "dropout_1 (Dropout)          (None, 58)                0         \n",
      "_________________________________________________________________\n",
      "dense_3 (Dense)              (None, 1)                 59        \n",
      "=================================================================\n",
      "Total params: 20,301\n",
      "Trainable params: 20,301\n",
      "Non-trainable params: 0\n",
      "_________________________________________________________________\n"
     ]
    }
   ],
   "source": [
    "#review model summary\n",
    "model.summary()"
   ]
  },
  {
   "cell_type": "code",
   "execution_count": 12,
   "metadata": {},
   "outputs": [
    {
     "data": {
      "text/html": [
       "<div>\n",
       "<style scoped>\n",
       "    .dataframe tbody tr th:only-of-type {\n",
       "        vertical-align: middle;\n",
       "    }\n",
       "\n",
       "    .dataframe tbody tr th {\n",
       "        vertical-align: top;\n",
       "    }\n",
       "\n",
       "    .dataframe thead th {\n",
       "        text-align: right;\n",
       "    }\n",
       "</style>\n",
       "<table border=\"1\" class=\"dataframe\">\n",
       "  <thead>\n",
       "    <tr style=\"text-align: right;\">\n",
       "      <th></th>\n",
       "      <th>val_loss</th>\n",
       "      <th>val_mae</th>\n",
       "      <th>loss</th>\n",
       "      <th>mae</th>\n",
       "    </tr>\n",
       "  </thead>\n",
       "  <tbody>\n",
       "    <tr>\n",
       "      <th>1</th>\n",
       "      <td>96.201628</td>\n",
       "      <td>34127.343750</td>\n",
       "      <td>99.032141</td>\n",
       "      <td>34286.148438</td>\n",
       "    </tr>\n",
       "    <tr>\n",
       "      <th>2</th>\n",
       "      <td>62.823056</td>\n",
       "      <td>23400.253906</td>\n",
       "      <td>81.859156</td>\n",
       "      <td>29087.027344</td>\n",
       "    </tr>\n",
       "    <tr>\n",
       "      <th>3</th>\n",
       "      <td>21.197253</td>\n",
       "      <td>8980.923828</td>\n",
       "      <td>34.345266</td>\n",
       "      <td>13641.000977</td>\n",
       "    </tr>\n",
       "    <tr>\n",
       "      <th>4</th>\n",
       "      <td>19.609498</td>\n",
       "      <td>8433.311523</td>\n",
       "      <td>22.348534</td>\n",
       "      <td>8611.866211</td>\n",
       "    </tr>\n",
       "    <tr>\n",
       "      <th>5</th>\n",
       "      <td>18.196666</td>\n",
       "      <td>7886.072754</td>\n",
       "      <td>19.291193</td>\n",
       "      <td>7805.691895</td>\n",
       "    </tr>\n",
       "  </tbody>\n",
       "</table>\n",
       "</div>"
      ],
      "text/plain": [
       "    val_loss       val_mae       loss           mae\n",
       "1  96.201628  34127.343750  99.032141  34286.148438\n",
       "2  62.823056  23400.253906  81.859156  29087.027344\n",
       "3  21.197253   8980.923828  34.345266  13641.000977\n",
       "4  19.609498   8433.311523  22.348534   8611.866211\n",
       "5  18.196666   7886.072754  19.291193   7805.691895"
      ]
     },
     "execution_count": 12,
     "metadata": {},
     "output_type": "execute_result"
    }
   ],
   "source": [
    "#review model evolution by epoch\n",
    "history_df = pd.DataFrame(history.history)\n",
    "history_df.index += 1\n",
    "history_df.head()"
   ]
  },
  {
   "cell_type": "code",
   "execution_count": 13,
   "metadata": {},
   "outputs": [
    {
     "data": {
      "text/plain": [
       "Text(0, 0.5, 'MAPE (%)')"
      ]
     },
     "execution_count": 13,
     "metadata": {},
     "output_type": "execute_result"
    },
    {
     "data": {
      "image/png": "[encoded data removed]",
      "text/plain": [
       "<Figure size 432x288 with 1 Axes>"
      ]
     },
     "metadata": {
      "needs_background": "light"
     },
     "output_type": "display_data"
    }
   ],
   "source": [
    "#display MAPE vs epoch (training loss and validation loss)\n",
    "start = 0\n",
    "stop = history_df.shape[0]\n",
    "plt.plot(1+np.arange(start, stop), history_df['val_loss'][start:], c='green')\n",
    "plt.plot(1+np.arange(start, stop), history_df['loss'][start:], c='red')\n",
    "plt.legend(('Validation MAPE (%)', 'Train MAPE (%)'))\n",
    "plt.title('Loss Per Epoch')\n",
    "plt.xlabel('Epoch (starts at {})'.format(start))\n",
    "plt.ylabel('MAPE (%)')"
   ]
  },
  {
   "cell_type": "code",
   "execution_count": 14,
   "metadata": {},
   "outputs": [
    {
     "data": {
      "text/plain": [
       "Text(0, 0.5, 'MAE')"
      ]
     },
     "execution_count": 14,
     "metadata": {},
     "output_type": "execute_result"
    },
    {
     "data": {
      "image/png": "[encoded data removed]",
      "text/plain": [
       "<Figure size 432x288 with 1 Axes>"
      ]
     },
     "metadata": {
      "needs_background": "light"
     },
     "output_type": "display_data"
    }
   ],
   "source": [
    "#display MAE vs epoch (training loss and validation loss)\n",
    "plt.plot(1+np.arange(start, stop), history_df['val_mae'][start:], 'green')\n",
    "plt.plot(1+np.arange(start, stop), history_df['mae'][start:], c='red')\n",
    "plt.legend(('Validation MAPE (%)', 'Train MAPE (%)'))\n",
    "plt.title('MAE Per Epoch')\n",
    "plt.xlabel('Epoch (starts at {})'.format(start))\n",
    "plt.ylabel('MAE')"
   ]
  },
  {
   "cell_type": "code",
   "execution_count": 15,
   "metadata": {},
   "outputs": [],
   "source": [
    "#display actual vs predicted price\n",
    "pred = model.predict(x)"
   ]
  },
  {
   "cell_type": "code",
   "execution_count": 16,
   "metadata": {},
   "outputs": [
    {
     "data": {
      "image/png": "[encoded data removed]",
      "text/plain": [
       "<Figure size 432x288 with 1 Axes>"
      ]
     },
     "metadata": {
      "needs_background": "light"
     },
     "output_type": "display_data"
    }
   ],
   "source": [
    "plt.scatter(pred, y, alpha=0.05, c=np.log(pred), cmap='winter', s=8) # winter, summer\n",
    "plt.xlabel('Predicted MSRP')\n",
    "plt.ylabel('Actual MSRP')\n",
    "plt.title('Predicted vs Actual MSRP')\n",
    "plt.yscale('log')\n",
    "plt.xscale('log')"
   ]
  },
  {
   "cell_type": "code",
   "execution_count": 17,
   "metadata": {},
   "outputs": [
    {
     "data": {
      "text/plain": [
       "array([[1.        , 0.83514453],\n",
       "       [0.83514453, 1.        ]])"
      ]
     },
     "execution_count": 17,
     "metadata": {},
     "output_type": "execute_result"
    }
   ],
   "source": [
    "np.corrcoef(pred.ravel(), y)"
   ]
  },
  {
   "cell_type": "code",
   "execution_count": 18,
   "metadata": {},
   "outputs": [],
   "source": [
    "#compare result with linear regression\n",
    "lin_reg = LinearRegression()"
   ]
  },
  {
   "cell_type": "code",
   "execution_count": 19,
   "metadata": {},
   "outputs": [],
   "source": [
    "#select same features\n",
    "A=['Passenger Doors','Corrosion Miles/km',\n",
    "            'Traction Control','Parking Aid','Width, Max w/o mirrors (in)','Basic Miles/km',\n",
    "            'Drivetrain Miles/km','Gear','Horsepower','Roadside Assistance Years',\n",
    "            'Daytime Running Lights','Basic Years',\n",
    "            'Back-Up Camera','Horsepower RPM','EPA Fuel Economy Est - Hwy (MPG)',\n",
    "            'Engine Configuration','Third Gear Ratio (:1)','Brakes-ABS',\n",
    "            'Second Shoulder Room (in)','Stability Control','Drivetrain Years',\n",
    "            'Tire Ratio',\n",
    "            'Fourth Gear Ratio (:1)','Cylinders','Tire Pressure Monitor',\n",
    "            'Corrosion Years','Torque RPM','Drivetrain','Rollover Protection Bars','Displacement (cc)',\n",
    "            'Rear Tire Width','Make','Roadside Assistance Miles/km','Fifth Gear Ratio (:1)',\n",
    "            'Front Shoulder Room (in)','Torque',\n",
    "            'Front Leg Room (in)','Second Leg Room (in)','Front Head Room (in)',\n",
    "            'Height, Overall (in)','Second Head Room (in)','Year',\n",
    "            'Front Tire Width','Night Vision',\n",
    "            'Tire Rating','Passenger Capacity',\n",
    "            'Second Gear Ratio (:1)','Fuel Tank Capacity, Approx (gal)','Reverse Ratio (:1)',\n",
    "            'Fuel System','First Gear Ratio (:1)','EPA Fuel Economy Est - City (MPG)',\n",
    "            'Displacement (L)']\n",
    "x=df.loc[:,A]\n",
    "y=df['MSRP']"
   ]
  },
  {
   "cell_type": "code",
   "execution_count": 20,
   "metadata": {},
   "outputs": [],
   "source": [
    "#one-hot encoding\n",
    "to_dummies = ['Drivetrain','Fuel System', 'Engine Configuration','Tire Rating','Make']\n",
    "\n",
    "for i in to_dummies:\n",
    "    dummies = pd.get_dummies(x[i], prefix_sep=': ', prefix=i)\n",
    "    x = x.drop(i, axis=1)\n",
    "    x = pd.concat([x, dummies], sort=False, axis=1)\n",
    "x = x.reset_index(drop=True)\n",
    "\n",
    "to_one = ['Brakes-ABS',\n",
    "              'Daytime Running Lights','Traction Control','Night Vision','Rollover Protection Bars',\n",
    "              'Parking Aid','Tire Pressure Monitor','Back-Up Camera','Stability Control']\n",
    "\n",
    "for i in to_one:\n",
    "    dummies1 = pd.get_dummies(x[i], prefix_sep=': ', prefix=i, drop_first=True)\n",
    "    x = x.drop(i, axis=1)\n",
    "    x = pd.concat([x, dummies1], sort=False, axis=1)\n",
    "x = x.reset_index(drop=True)"
   ]
  },
  {
   "cell_type": "code",
   "execution_count": 21,
   "metadata": {},
   "outputs": [],
   "source": [
    "#scale inputs\n",
    "x = StandardScaler().fit_transform(x.astype(np.float64))"
   ]
  },
  {
   "cell_type": "code",
   "execution_count": 22,
   "metadata": {},
   "outputs": [],
   "source": [
    "#split data into train set and test set\n",
    "X_train, X_test, y_train, y_test = train_test_split(x, y, test_size=0.2)"
   ]
  },
  {
   "cell_type": "code",
   "execution_count": 23,
   "metadata": {},
   "outputs": [
    {
     "data": {
      "text/plain": [
       "2701.7283817173875"
      ]
     },
     "execution_count": 23,
     "metadata": {},
     "output_type": "execute_result"
    }
   ],
   "source": [
    "#train linear regression model and review mae\n",
    "lin_reg.fit(X_train, y_train)\n",
    "y_pred = lin_reg.predict(X_test)"
   ]
  },
  {
   "cell_type": "code",
   "execution_count": 36,
   "metadata": {},
   "outputs": [
    {
     "name": "stdout",
     "output_type": "stream",
     "text": [
      "mean absolute error: 2701.7283817173875\n",
      "r2 score: 0.946964932396114\n"
     ]
    }
   ],
   "source": [
    "#review mae and r2 score\n",
    "print('mean absolute error: '+ mean_absolute_error(y_test, y_pred).astype(str))\n",
    "print('r2 score: '+ r2_score(y_test, y_pred).astype(str))"
   ]
  },
  {
   "cell_type": "code",
   "execution_count": null,
   "metadata": {},
   "outputs": [],
   "source": [
    "#train ridge regression model and review mae\n",
    "ridge = Ridge()\n",
    "ridge.fit(X_train, y_train)\n",
    "y_pred = ridge.predict(X_test)\n",
    "mean_absolute_error(y_test, y_pred)\n",
    "print('mean absolute error: '+ mean_absolute_error(y_test, y_pred).astype(str))\n",
    "print('r2 score: '+ r2_score(y_test, y_pred).astype(str))"
   ]
  },
  {
   "cell_type": "code",
   "execution_count": null,
   "metadata": {},
   "outputs": [],
   "source": []
  },
  {
   "cell_type": "code",
   "execution_count": null,
   "metadata": {},
   "outputs": [],
   "source": [
    "#review r2 score\n",
    "r2_score(y_test, y_pred)"
   ]
  },
  {
   "cell_type": "code",
   "execution_count": null,
   "metadata": {},
   "outputs": [],
   "source": []
  }
 ],
 "metadata": {
  "kernelspec": {
   "display_name": "Python",
   "language": "python",
   "name": "conda-env-python-py"
  },
  "language_info": {
   "codemirror_mode": {
    "name": "ipython",
    "version": 3
   },
   "file_extension": ".py",
   "mimetype": "text/x-python",
   "name": "python",
   "nbconvert_exporter": "python",
   "pygments_lexer": "ipython3",
   "version": "3.6.7"
  }
 },
 "nbformat": 4,
 "nbformat_minor": 4
}
